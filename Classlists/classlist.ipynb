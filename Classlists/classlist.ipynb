{
 "cells": [
  {
   "cell_type": "code",
   "execution_count": 2,
   "metadata": {},
   "outputs": [],
   "source": [
    "import re"
   ]
  },
  {
   "cell_type": "code",
   "execution_count": 16,
   "metadata": {},
   "outputs": [
    {
     "name": "stdout",
     "output_type": "stream",
     "text": [
      "['34567', '12345', '54321', '55555', '12345']\n"
     ]
    }
   ],
   "source": [
    "str = '34567 545 323 12345 54321 123456 55555 C C12345 12345 CC'\n",
    "# matches = re.findall(r\"\\D(\\d{5})\\D\", str)\n",
    "matches = re.findall(r\"\\b\\d{5}\\b\", str)\n",
    "if matches:\n",
    "    print(matches)\n",
    "else:\n",
    "    print(\"BEGINNING NOT A MATCH\")\n",
    "# for x in re.finditer(r\"(?<!\\d)\\d{5}(?!\\d)\", str):\n",
    "#     print(x.group())"
   ]
  },
  {
   "cell_type": "code",
   "execution_count": 18,
   "metadata": {},
   "outputs": [
    {
     "name": "stdout",
     "output_type": "stream",
     "text": [
      "Hardware\n",
      "Security\n",
      "and\n",
      "Trust\n"
     ]
    }
   ],
   "source": [
    "str = '25586 EE 6550 01 Dayton 3.000 IC Hardware Security and Trust TR'\n",
    "for word in str.split(' ')[7:]:\n",
    "    if word in {'M', 'T', 'W', 'R', 'F', 'MW', 'MF', 'WF', 'MWF', 'TR'} or word[0].isdigit():\n",
    "        break\n",
    "    else:\n",
    "        print(word)"
   ]
  }
 ],
 "metadata": {
  "kernelspec": {
   "display_name": "Python 3.10.6 ('venv': venv)",
   "language": "python",
   "name": "python3"
  },
  "language_info": {
   "codemirror_mode": {
    "name": "ipython",
    "version": 3
   },
   "file_extension": ".py",
   "mimetype": "text/x-python",
   "name": "python",
   "nbconvert_exporter": "python",
   "pygments_lexer": "ipython3",
   "version": "3.10.6"
  },
  "orig_nbformat": 4,
  "vscode": {
   "interpreter": {
    "hash": "cbccc1001f2002f4e092ebbba41e06c650ffe5cd6b2f59db205263ed203690e0"
   }
  }
 },
 "nbformat": 4,
 "nbformat_minor": 2
}
